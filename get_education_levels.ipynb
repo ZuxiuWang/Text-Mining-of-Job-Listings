{
 "cells": [
  {
   "cell_type": "code",
   "execution_count": 1,
   "metadata": {},
   "outputs": [],
   "source": [
    "import nltk\n",
    "import pandas as pd\n",
    "import re\n",
    "import matplotlib.pyplot as plt"
   ]
  },
  {
   "cell_type": "code",
   "execution_count": 2,
   "metadata": {},
   "outputs": [
    {
     "data": {
      "text/html": [
       "<div>\n",
       "<style scoped>\n",
       "    .dataframe tbody tr th:only-of-type {\n",
       "        vertical-align: middle;\n",
       "    }\n",
       "\n",
       "    .dataframe tbody tr th {\n",
       "        vertical-align: top;\n",
       "    }\n",
       "\n",
       "    .dataframe thead th {\n",
       "        text-align: right;\n",
       "    }\n",
       "</style>\n",
       "<table border=\"1\" class=\"dataframe\">\n",
       "  <thead>\n",
       "    <tr style=\"text-align: right;\">\n",
       "      <th></th>\n",
       "      <th>job_title</th>\n",
       "      <th>job_desc</th>\n",
       "      <th>tokens</th>\n",
       "      <th>cluster</th>\n",
       "      <th>title_tokens</th>\n",
       "    </tr>\n",
       "  </thead>\n",
       "  <tbody>\n",
       "    <tr>\n",
       "      <th>0</th>\n",
       "      <td>(Urgent!) IT Support</td>\n",
       "      <td>Permanent\\r\\nLogging and processing support ca...</td>\n",
       "      <td>urgent support permanent logging processing su...</td>\n",
       "      <td>2</td>\n",
       "      <td>urgent support</td>\n",
       "    </tr>\n",
       "    <tr>\n",
       "      <th>1</th>\n",
       "      <td>.Net Developer</td>\n",
       "      <td>Job Summary\\r\\nAbout Us\\r\\nInfosys is a leadin...</td>\n",
       "      <td>.net developer infosys leading provider next-g...</td>\n",
       "      <td>4</td>\n",
       "      <td>.net developer</td>\n",
       "    </tr>\n",
       "    <tr>\n",
       "      <th>2</th>\n",
       "      <td>.Net Software Engineers</td>\n",
       "      <td>Joining Accenture provides you with the opport...</td>\n",
       "      <td>.net software engineers joining accenture prov...</td>\n",
       "      <td>3</td>\n",
       "      <td>.net software engineers</td>\n",
       "    </tr>\n",
       "    <tr>\n",
       "      <th>3</th>\n",
       "      <td>2nd / 3rd Line Technical Support Engineer</td>\n",
       "      <td>Permanent\\r\\nRoles &amp; Responsibilities\\r\\nOn a ...</td>\n",
       "      <td>line technical support engineer permanent role...</td>\n",
       "      <td>2</td>\n",
       "      <td>line technical support engineer</td>\n",
       "    </tr>\n",
       "    <tr>\n",
       "      <th>4</th>\n",
       "      <td>AMOS Support Specialist</td>\n",
       "      <td>Roles &amp; Responsibilities\\r\\nLufthansa Systems ...</td>\n",
       "      <td>amos support specialist roles responsibilities...</td>\n",
       "      <td>2</td>\n",
       "      <td>amos support specialist</td>\n",
       "    </tr>\n",
       "  </tbody>\n",
       "</table>\n",
       "</div>"
      ],
      "text/plain": [
       "                                   job_title  \\\n",
       "0                       (Urgent!) IT Support   \n",
       "1                             .Net Developer   \n",
       "2                    .Net Software Engineers   \n",
       "3  2nd / 3rd Line Technical Support Engineer   \n",
       "4                    AMOS Support Specialist   \n",
       "\n",
       "                                            job_desc  \\\n",
       "0  Permanent\\r\\nLogging and processing support ca...   \n",
       "1  Job Summary\\r\\nAbout Us\\r\\nInfosys is a leadin...   \n",
       "2  Joining Accenture provides you with the opport...   \n",
       "3  Permanent\\r\\nRoles & Responsibilities\\r\\nOn a ...   \n",
       "4  Roles & Responsibilities\\r\\nLufthansa Systems ...   \n",
       "\n",
       "                                              tokens  cluster  \\\n",
       "0  urgent support permanent logging processing su...        2   \n",
       "1  .net developer infosys leading provider next-g...        4   \n",
       "2  .net software engineers joining accenture prov...        3   \n",
       "3  line technical support engineer permanent role...        2   \n",
       "4  amos support specialist roles responsibilities...        2   \n",
       "\n",
       "                      title_tokens  \n",
       "0                   urgent support  \n",
       "1                   .net developer  \n",
       "2          .net software engineers  \n",
       "3  line technical support engineer  \n",
       "4          amos support specialist  "
      ]
     },
     "execution_count": 2,
     "metadata": {},
     "output_type": "execute_result"
    }
   ],
   "source": [
    "df = pd.read_csv('job_details_with_cluster.csv')\n",
    "df.head()"
   ]
  },
  {
   "cell_type": "code",
   "execution_count": 3,
   "metadata": {},
   "outputs": [],
   "source": [
    "edu_dict = {\n",
    "    \"Degree\" : [\"degree\"],\n",
    "    \"Diploma\" : [\"polytechnic\", \"poly\"],\n",
    "    \"Bachelor\" : [\"bachelor\", \"Undergraduate\", \"graduate\"],\n",
    "    \"Master\" : [ \"master\", \"postgraduate\", \"post-graduate\", \"postgrad\"],\n",
    "    \"Phd\" : [\"phd\", \"doctor\", \"doctoral\"],\n",
    "    \"Experienced\" : [\"working experience\", \"work experience\"] \n",
    "}\n",
    "\n",
    "def get_edu_level(desc):\n",
    "    edu = []\n",
    "    for key, values in edu_dict.items():\n",
    "        for value in values:\n",
    "            s = re.search(value, desc, re.IGNORECASE)\n",
    "            if s:\n",
    "#                 print(s.group(0))\n",
    "                edu.append(key)\n",
    "                break\n",
    "\n",
    "    if len(edu) == 0:\n",
    "        edu_str = 'Not-mentioned'\n",
    "    else:\n",
    "        edu_str = \" \".join(edu)\n",
    "\n",
    "    return edu_str"
   ]
  },
  {
   "cell_type": "code",
   "execution_count": 4,
   "metadata": {},
   "outputs": [
    {
     "data": {
      "text/html": [
       "<div>\n",
       "<style scoped>\n",
       "    .dataframe tbody tr th:only-of-type {\n",
       "        vertical-align: middle;\n",
       "    }\n",
       "\n",
       "    .dataframe tbody tr th {\n",
       "        vertical-align: top;\n",
       "    }\n",
       "\n",
       "    .dataframe thead th {\n",
       "        text-align: right;\n",
       "    }\n",
       "</style>\n",
       "<table border=\"1\" class=\"dataframe\">\n",
       "  <thead>\n",
       "    <tr style=\"text-align: right;\">\n",
       "      <th></th>\n",
       "      <th>job_title</th>\n",
       "      <th>job_desc</th>\n",
       "      <th>tokens</th>\n",
       "      <th>cluster</th>\n",
       "      <th>title_tokens</th>\n",
       "      <th>edu_level</th>\n",
       "    </tr>\n",
       "  </thead>\n",
       "  <tbody>\n",
       "    <tr>\n",
       "      <th>0</th>\n",
       "      <td>(Urgent!) IT Support</td>\n",
       "      <td>Permanent\\r\\nLogging and processing support ca...</td>\n",
       "      <td>urgent support permanent logging processing su...</td>\n",
       "      <td>2</td>\n",
       "      <td>urgent support</td>\n",
       "      <td>Not-mentioned</td>\n",
       "    </tr>\n",
       "    <tr>\n",
       "      <th>1</th>\n",
       "      <td>.Net Developer</td>\n",
       "      <td>Job Summary\\r\\nAbout Us\\r\\nInfosys is a leadin...</td>\n",
       "      <td>.net developer infosys leading provider next-g...</td>\n",
       "      <td>4</td>\n",
       "      <td>.net developer</td>\n",
       "      <td>Degree Bachelor Master</td>\n",
       "    </tr>\n",
       "    <tr>\n",
       "      <th>2</th>\n",
       "      <td>.Net Software Engineers</td>\n",
       "      <td>Joining Accenture provides you with the opport...</td>\n",
       "      <td>.net software engineers joining accenture prov...</td>\n",
       "      <td>3</td>\n",
       "      <td>.net software engineers</td>\n",
       "      <td>Degree Bachelor</td>\n",
       "    </tr>\n",
       "    <tr>\n",
       "      <th>3</th>\n",
       "      <td>2nd / 3rd Line Technical Support Engineer</td>\n",
       "      <td>Permanent\\r\\nRoles &amp; Responsibilities\\r\\nOn a ...</td>\n",
       "      <td>line technical support engineer permanent role...</td>\n",
       "      <td>2</td>\n",
       "      <td>line technical support engineer</td>\n",
       "      <td>Degree Bachelor</td>\n",
       "    </tr>\n",
       "    <tr>\n",
       "      <th>4</th>\n",
       "      <td>AMOS Support Specialist</td>\n",
       "      <td>Roles &amp; Responsibilities\\r\\nLufthansa Systems ...</td>\n",
       "      <td>amos support specialist roles responsibilities...</td>\n",
       "      <td>2</td>\n",
       "      <td>amos support specialist</td>\n",
       "      <td>Experienced</td>\n",
       "    </tr>\n",
       "  </tbody>\n",
       "</table>\n",
       "</div>"
      ],
      "text/plain": [
       "                                   job_title  \\\n",
       "0                       (Urgent!) IT Support   \n",
       "1                             .Net Developer   \n",
       "2                    .Net Software Engineers   \n",
       "3  2nd / 3rd Line Technical Support Engineer   \n",
       "4                    AMOS Support Specialist   \n",
       "\n",
       "                                            job_desc  \\\n",
       "0  Permanent\\r\\nLogging and processing support ca...   \n",
       "1  Job Summary\\r\\nAbout Us\\r\\nInfosys is a leadin...   \n",
       "2  Joining Accenture provides you with the opport...   \n",
       "3  Permanent\\r\\nRoles & Responsibilities\\r\\nOn a ...   \n",
       "4  Roles & Responsibilities\\r\\nLufthansa Systems ...   \n",
       "\n",
       "                                              tokens  cluster  \\\n",
       "0  urgent support permanent logging processing su...        2   \n",
       "1  .net developer infosys leading provider next-g...        4   \n",
       "2  .net software engineers joining accenture prov...        3   \n",
       "3  line technical support engineer permanent role...        2   \n",
       "4  amos support specialist roles responsibilities...        2   \n",
       "\n",
       "                      title_tokens               edu_level  \n",
       "0                   urgent support           Not-mentioned  \n",
       "1                   .net developer  Degree Bachelor Master  \n",
       "2          .net software engineers         Degree Bachelor  \n",
       "3  line technical support engineer         Degree Bachelor  \n",
       "4          amos support specialist             Experienced  "
      ]
     },
     "execution_count": 4,
     "metadata": {},
     "output_type": "execute_result"
    }
   ],
   "source": [
    "# get_edu_level from job_desc, add it to new column edu_level\n",
    "df[\"edu_level\"] = df.job_desc.apply(lambda x: get_edu_level(x))\n",
    "df.head()\n",
    "\n",
    "# get_edu_level from one job_desc\n",
    "# get_edu_level(df.job_desc.iloc[1])"
   ]
  },
  {
   "cell_type": "code",
   "execution_count": 16,
   "metadata": {},
   "outputs": [
    {
     "data": {
      "text/plain": [
       "<matplotlib.axes._subplots.AxesSubplot at 0x249810c6128>"
      ]
     },
     "execution_count": 16,
     "metadata": {},
     "output_type": "execute_result"
    },
    {
     "data": {
      "image/png": "[encoded data removed]",
      "text/plain": [
       "<Figure size 432x288 with 1 Axes>"
      ]
     },
     "metadata": {},
     "output_type": "display_data"
    }
   ],
   "source": [
    "edu_all = df['edu_level'].tolist()\n",
    "edu_fd = nltk.FreqDist(edu_all)\n",
    "rslt = pd.DataFrame(edu_fd.most_common(len(edu_dict)),\n",
    "                    columns=['Education', 'Frequency']).set_index('Education')\n",
    "rslt.plot(kind=\"bar\")"
   ]
  },
  {
   "cell_type": "code",
   "execution_count": 5,
   "metadata": {},
   "outputs": [],
   "source": [
    "# Join the edu_level, groupby by their label of clusters\n",
    "edu_clusters = df.groupby(\"cluster\").apply(lambda g:\" \".join(g.edu_level)).tolist()"
   ]
  },
  {
   "cell_type": "code",
   "execution_count": 18,
   "metadata": {
    "scrolled": false
   },
   "outputs": [
    {
     "data": {
      "image/png": "[encoded data removed]",
      "text/plain": [
       "<Figure size 432x288 with 1 Axes>"
      ]
     },
     "metadata": {},
     "output_type": "display_data"
    },
    {
     "data": {
      "image/png": "[encoded data removed]",
      "text/plain": [
       "<Figure size 432x288 with 1 Axes>"
      ]
     },
     "metadata": {},
     "output_type": "display_data"
    },
    {
     "data": {
      "image/png": "[encoded data removed]",
      "text/plain": [
       "<Figure size 432x288 with 1 Axes>"
      ]
     },
     "metadata": {},
     "output_type": "display_data"
    },
    {
     "data": {
      "image/png": "[encoded data removed]",
      "text/plain": [
       "<Figure size 432x288 with 1 Axes>"
      ]
     },
     "metadata": {},
     "output_type": "display_data"
    },
    {
     "data": {
      "image/png": "[encoded data removed]",
      "text/plain": [
       "<Figure size 432x288 with 1 Axes>"
      ]
     },
     "metadata": {},
     "output_type": "display_data"
    }
   ],
   "source": [
    "# For each cluster, generate wordcloud/bar diagram for the edu_levels\n",
    "for idx, values in enumerate(edu_clusters):\n",
    "    fd = nltk.FreqDist(values.split(' '))\n",
    "    rslt = pd.DataFrame(fd.most_common(len(edu_dict)),\n",
    "                    columns=['Education', 'Frequency']).set_index('Education')\n",
    "    rslt.plot(kind=\"bar\")\n",
    "#     rslt.iplot(kind=\"bar\")\n",
    "    "
   ]
  },
  {
   "cell_type": "code",
   "execution_count": null,
   "metadata": {},
   "outputs": [],
   "source": []
  },
  {
   "cell_type": "code",
   "execution_count": null,
   "metadata": {},
   "outputs": [],
   "source": []
  },
  {
   "cell_type": "code",
   "execution_count": 18,
   "metadata": {},
   "outputs": [
    {
     "name": "stdout",
     "output_type": "stream",
     "text": [
      "Degree\n",
      "Bachelor\n"
     ]
    },
    {
     "data": {
      "text/plain": [
       "'Degree Bachelor'"
      ]
     },
     "execution_count": 18,
     "metadata": {},
     "output_type": "execute_result"
    }
   ],
   "source": [
    "# for single test, from here to the end, no need to run\n",
    "desc = df.job_desc.iloc[3]\n",
    "\n",
    "# edu_dict = {\n",
    "#     \"Degree\" : [\"degree\"],\n",
    "#     \"Diploma\" : [\"polytechnic\", \"poly\", \"diploma\"],\n",
    "#     \"Bachelor\" : [\"bachelor\", \"Undergraduate\", \"graduate\"],\n",
    "#     \"Master\" : [ \"master\", \"postgraduate\", \"post-graduate\", \"postgrad\"],\n",
    "#     \"Phd\" : [\"phd\", \"doctor\", \"doctoral\"],\n",
    "#     \"Experienced\" : [\"working experience\", \"work experience\"] \n",
    "# }\n",
    "\n",
    "edu = []\n",
    "for key, values in edu_dict.items():\n",
    "    for value in values:\n",
    "        s = re.search(value, desc, re.IGNORECASE)\n",
    "        if s:\n",
    "            print(s.group(0))\n",
    "            edu.append(key)\n",
    "            break\n",
    "\n",
    "if len(edu) == 0:\n",
    "    edu_str = 'Not-mentioned'\n",
    "else:\n",
    "    edu_str = \" \".join(edu)\n",
    "    \n",
    "edu_str\n"
   ]
  },
  {
   "cell_type": "code",
   "execution_count": null,
   "metadata": {},
   "outputs": [],
   "source": []
  },
  {
   "cell_type": "code",
   "execution_count": null,
   "metadata": {},
   "outputs": [],
   "source": []
  },
  {
   "cell_type": "code",
   "execution_count": null,
   "metadata": {},
   "outputs": [],
   "source": []
  }
 ],
 "metadata": {
  "kernelspec": {
   "display_name": "Python 3",
   "language": "python",
   "name": "python3"
  },
  "language_info": {
   "codemirror_mode": {
    "name": "ipython",
    "version": 3
   },
   "file_extension": ".py",
   "mimetype": "text/x-python",
   "name": "python",
   "nbconvert_exporter": "python",
   "pygments_lexer": "ipython3",
   "version": "3.6.5"
  }
 },
 "nbformat": 4,
 "nbformat_minor": 2
}
