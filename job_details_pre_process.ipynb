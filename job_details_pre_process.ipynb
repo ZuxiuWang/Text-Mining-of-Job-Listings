{
 "cells": [
  {
   "cell_type": "code",
   "execution_count": 1,
   "metadata": {},
   "outputs": [],
   "source": [
    "import string\n",
    "import nltk\n",
    "from nltk import word_tokenize, FreqDist\n",
    "from nltk.corpus import stopwords\n",
    "import pandas as pd"
   ]
  },
  {
   "cell_type": "code",
   "execution_count": 2,
   "metadata": {},
   "outputs": [],
   "source": [
    "pf = pd.read_csv('job_details_all_without_duplicate.csv')"
   ]
  },
  {
   "cell_type": "code",
   "execution_count": 3,
   "metadata": {},
   "outputs": [],
   "source": [
    "pf = pf[[\"job_title\", \"job_desc\"]]"
   ]
  },
  {
   "cell_type": "code",
   "execution_count": 4,
   "metadata": {},
   "outputs": [
    {
     "data": {
      "text/html": [
       "<div>\n",
       "<style scoped>\n",
       "    .dataframe tbody tr th:only-of-type {\n",
       "        vertical-align: middle;\n",
       "    }\n",
       "\n",
       "    .dataframe tbody tr th {\n",
       "        vertical-align: top;\n",
       "    }\n",
       "\n",
       "    .dataframe thead th {\n",
       "        text-align: right;\n",
       "    }\n",
       "</style>\n",
       "<table border=\"1\" class=\"dataframe\">\n",
       "  <thead>\n",
       "    <tr style=\"text-align: right;\">\n",
       "      <th></th>\n",
       "      <th>job_title</th>\n",
       "      <th>job_desc</th>\n",
       "    </tr>\n",
       "  </thead>\n",
       "  <tbody>\n",
       "    <tr>\n",
       "      <th>0</th>\n",
       "      <td>(Urgent!) IT Support</td>\n",
       "      <td>Permanent\\nLogging and processing support call...</td>\n",
       "    </tr>\n",
       "    <tr>\n",
       "      <th>1</th>\n",
       "      <td>.Net Developer</td>\n",
       "      <td>Job Summary\\nAbout Us\\nInfosys is a leading pr...</td>\n",
       "    </tr>\n",
       "    <tr>\n",
       "      <th>2</th>\n",
       "      <td>.Net Software Engineers</td>\n",
       "      <td>Joining Accenture provides you with the opport...</td>\n",
       "    </tr>\n",
       "    <tr>\n",
       "      <th>3</th>\n",
       "      <td>2nd / 3rd Line Technical Support Engineer</td>\n",
       "      <td>Permanent\\nRoles &amp; Responsibilities\\nOn a day-...</td>\n",
       "    </tr>\n",
       "    <tr>\n",
       "      <th>4</th>\n",
       "      <td>AMOS Support Specialist</td>\n",
       "      <td>Roles &amp; Responsibilities\\nLufthansa Systems is...</td>\n",
       "    </tr>\n",
       "  </tbody>\n",
       "</table>\n",
       "</div>"
      ],
      "text/plain": [
       "                                   job_title  \\\n",
       "0                       (Urgent!) IT Support   \n",
       "1                             .Net Developer   \n",
       "2                    .Net Software Engineers   \n",
       "3  2nd / 3rd Line Technical Support Engineer   \n",
       "4                    AMOS Support Specialist   \n",
       "\n",
       "                                            job_desc  \n",
       "0  Permanent\\nLogging and processing support call...  \n",
       "1  Job Summary\\nAbout Us\\nInfosys is a leading pr...  \n",
       "2  Joining Accenture provides you with the opport...  \n",
       "3  Permanent\\nRoles & Responsibilities\\nOn a day-...  \n",
       "4  Roles & Responsibilities\\nLufthansa Systems is...  "
      ]
     },
     "execution_count": 4,
     "metadata": {},
     "output_type": "execute_result"
    }
   ],
   "source": [
    "pf.head()"
   ]
  },
  {
   "cell_type": "code",
   "execution_count": 5,
   "metadata": {},
   "outputs": [],
   "source": [
    "punctuation = string.punctuation\n",
    "punctuation = punctuation + '-' + '–'\n",
    "\n",
    "conditions = [\n",
    "#     lambda t: len(t) < 3,\n",
    "    lambda t: t in punctuation,\n",
    "    lambda t: any(c.isdigit() for c in t),\n",
    "]\n",
    "\n",
    "stop = stopwords.words('english')\n",
    "custom_stop = ['job', 'summary', 'description', 'work', 'working', 'type', 'time', 'team', 'full', 'singapore', 'location', 'requirements', '’', 'about', 'us',\n",
    "               'experience', 'skills', 'world', 'build', \"'s\"]\n",
    "stop.extend(custom_stop)\n",
    "\n",
    "porter = nltk.PorterStemmer()\n",
    "\n",
    "# Pre_process text, remove words is punctuation or digit, remove stop words, use stemmer to get general text\n",
    "def pre_process(desc, conditions, stop, porter):\n",
    "    tokens_nop = [ t for t in word_tokenize(desc) if not any(f(t) for f in conditions)]\n",
    "    tokens_lower = [ t.lower() for t in tokens_nop ]\n",
    "    tokens_nostop = [ t for t in tokens_lower if t not in stop ]\n",
    "#     tokens_nostop = set(tokens_nostop) # get the unique words in tokens \n",
    "    tokens_porter = [ porter.stem(t) for t in tokens_nostop ] # get the stemmed words\n",
    "    return tokens_nostop"
   ]
  },
  {
   "cell_type": "code",
   "execution_count": 6,
   "metadata": {},
   "outputs": [],
   "source": [
    "# Pre_process job_title + job_desc, add new column tokens\n",
    "pf[\"tokens\"] = pf.apply(lambda row:pre_process(row.job_title + \" \" + row.job_desc, conditions, stop, porter), axis=1)\n",
    "pf.tokens = pf.tokens.str.join(\" \")\n",
    "\n",
    "# Pre_process job_desc\n",
    "# pf[\"tokens\"] = pf.job_desc.apply(lambda x: pre_process(x, conditions, stop))\n",
    "# Pre_process 1 of job_desc\n",
    "# pre_process(pf.job_desc.iloc[1], conditions, stop)"
   ]
  },
  {
   "cell_type": "code",
   "execution_count": 16,
   "metadata": {},
   "outputs": [
    {
     "data": {
      "text/html": [
       "<div>\n",
       "<style scoped>\n",
       "    .dataframe tbody tr th:only-of-type {\n",
       "        vertical-align: middle;\n",
       "    }\n",
       "\n",
       "    .dataframe tbody tr th {\n",
       "        vertical-align: top;\n",
       "    }\n",
       "\n",
       "    .dataframe thead th {\n",
       "        text-align: right;\n",
       "    }\n",
       "</style>\n",
       "<table border=\"1\" class=\"dataframe\">\n",
       "  <thead>\n",
       "    <tr style=\"text-align: right;\">\n",
       "      <th></th>\n",
       "      <th>job_title</th>\n",
       "      <th>job_desc</th>\n",
       "      <th>tokens</th>\n",
       "    </tr>\n",
       "  </thead>\n",
       "  <tbody>\n",
       "    <tr>\n",
       "      <th>0</th>\n",
       "      <td>(Urgent!) IT Support</td>\n",
       "      <td>Permanent\\nLogging and processing support call...</td>\n",
       "      <td>urgent support permanent logging processing su...</td>\n",
       "    </tr>\n",
       "    <tr>\n",
       "      <th>1</th>\n",
       "      <td>.Net Developer</td>\n",
       "      <td>Job Summary\\nAbout Us\\nInfosys is a leading pr...</td>\n",
       "      <td>.net developer infosys leading provider next-g...</td>\n",
       "    </tr>\n",
       "    <tr>\n",
       "      <th>2</th>\n",
       "      <td>.Net Software Engineers</td>\n",
       "      <td>Joining Accenture provides you with the opport...</td>\n",
       "      <td>.net software engineers joining accenture prov...</td>\n",
       "    </tr>\n",
       "    <tr>\n",
       "      <th>3</th>\n",
       "      <td>2nd / 3rd Line Technical Support Engineer</td>\n",
       "      <td>Permanent\\nRoles &amp; Responsibilities\\nOn a day-...</td>\n",
       "      <td>line technical support engineer permanent role...</td>\n",
       "    </tr>\n",
       "    <tr>\n",
       "      <th>4</th>\n",
       "      <td>AMOS Support Specialist</td>\n",
       "      <td>Roles &amp; Responsibilities\\nLufthansa Systems is...</td>\n",
       "      <td>amos support specialist roles responsibilities...</td>\n",
       "    </tr>\n",
       "  </tbody>\n",
       "</table>\n",
       "</div>"
      ],
      "text/plain": [
       "                                   job_title  \\\n",
       "0                       (Urgent!) IT Support   \n",
       "1                             .Net Developer   \n",
       "2                    .Net Software Engineers   \n",
       "3  2nd / 3rd Line Technical Support Engineer   \n",
       "4                    AMOS Support Specialist   \n",
       "\n",
       "                                            job_desc  \\\n",
       "0  Permanent\\nLogging and processing support call...   \n",
       "1  Job Summary\\nAbout Us\\nInfosys is a leading pr...   \n",
       "2  Joining Accenture provides you with the opport...   \n",
       "3  Permanent\\nRoles & Responsibilities\\nOn a day-...   \n",
       "4  Roles & Responsibilities\\nLufthansa Systems is...   \n",
       "\n",
       "                                              tokens  \n",
       "0  urgent support permanent logging processing su...  \n",
       "1  .net developer infosys leading provider next-g...  \n",
       "2  .net software engineers joining accenture prov...  \n",
       "3  line technical support engineer permanent role...  \n",
       "4  amos support specialist roles responsibilities...  "
      ]
     },
     "execution_count": 16,
     "metadata": {},
     "output_type": "execute_result"
    }
   ],
   "source": [
    "pf.head()"
   ]
  },
  {
   "cell_type": "code",
   "execution_count": 17,
   "metadata": {},
   "outputs": [],
   "source": [
    "pf.to_csv('job_details_processed.csv', index=False)"
   ]
  },
  {
   "cell_type": "code",
   "execution_count": null,
   "metadata": {},
   "outputs": [],
   "source": []
  }
 ],
 "metadata": {
  "kernelspec": {
   "display_name": "Python 3",
   "language": "python",
   "name": "python3"
  },
  "language_info": {
   "codemirror_mode": {
    "name": "ipython",
    "version": 3
   },
   "file_extension": ".py",
   "mimetype": "text/x-python",
   "name": "python",
   "nbconvert_exporter": "python",
   "pygments_lexer": "ipython3",
   "version": "3.6.5"
  }
 },
 "nbformat": 4,
 "nbformat_minor": 2
}
